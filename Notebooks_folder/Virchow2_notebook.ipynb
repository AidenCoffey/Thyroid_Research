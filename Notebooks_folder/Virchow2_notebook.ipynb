{
 "cells": [
  {
   "cell_type": "code",
   "execution_count": null,
   "metadata": {},
   "outputs": [],
   "source": [
    "import torch\n",
    "import torch.nn as nn\n",
    "import torch.optim as optim\n",
    "import pandas as pd\n",
    "import os\n",
    "from PIL import Image\n",
    "from sklearn.metrics import roc_auc_score, classification_report, accuracy_score, f1_score, precision_score, recall_score\n",
    "from torch.utils.data import Dataset, DataLoader\n",
    "from torchvision import transforms\n",
    "from tqdm import tqdm\n",
    "from sklearn.model_selection import train_test_split\n",
    "from transformers import ViTForImageClassification, ViTFeatureExtractor\n",
    "import matplotlib.pyplot as plt"
   ]
  },
  {
   "cell_type": "code",
   "execution_count": null,
   "metadata": {},
   "outputs": [],
   "source": [
    "from huggingface_hub import login\n",
    "\n",
    "login(\"\")\n"
   ]
  },
  {
   "cell_type": "code",
   "execution_count": null,
   "metadata": {},
   "outputs": [],
   "source": [
    "import timm\n",
    "import torch\n",
    "from timm.data import resolve_data_config\n",
    "from timm.data.transforms_factory import create_transform\n",
    "from timm.layers import SwiGLUPacked\n",
    "from PIL import Image\n",
    "\n",
    "# need to specify MLP layer and activation function for proper init\n",
    "model = timm.create_model(\"hf-hub:paige-ai/Virchow2\", pretrained=True, mlp_layer=SwiGLUPacked, act_layer=torch.nn.SiLU)\n",
    "model = model.eval()\n",
    "\n",
    "transforms = create_transform(**resolve_data_config(model.pretrained_cfg, model=model))\n",
    "\n",
    "image = Image.open(\"/home/iambrink/NOH_Thyroid_Cancer_Data/TAN/001/IMG_20220623_134910.jpg\")\n",
    "image = transforms(image).unsqueeze(0)  # size: 1 x 3 x 224 x 224\n",
    "\n",
    "output = model(image)  # size: 1 x 261 x 1280\n",
    "\n",
    "class_token = output[:, 0]    # size: 1 x 1280\n",
    "patch_tokens = output[:, 5:]  # size: 1 x 256 x 1280, tokens 1-4 are register tokens so we ignore those\n",
    "\n",
    "# concatenate class token and average pool of patch tokens\n",
    "embedding = torch.cat([class_token, patch_tokens.mean(1)], dim=-1)  # size: 1 x 2560\n"
   ]
  },
  {
   "cell_type": "code",
   "execution_count": null,
   "metadata": {},
   "outputs": [],
   "source": [
    "model = model.to(\"cuda\")\n",
    "image = image.to(\"cuda\")\n",
    "\n",
    "with torch.inference_mode(), torch.autocast(device_type=\"cuda\", dtype=torch.float16):\n",
    "  output = model(image)\n",
    "\n",
    "class_token = output[:, 0]\n",
    "patch_tokens = output[:, 5:]\n",
    "\n",
    "embedding = torch.cat([class_token, patch_tokens.mean(1)], dim=-1)\n",
    "\n",
    "# the model output will be fp32 because the final operation is a LayerNorm that is ran in mixed precision\n",
    "# optionally, you can convert the embedding to fp16 for efficiency in downstream use\n",
    "embedding = embedding.to(torch.float16)\n"
   ]
  },
  {
   "cell_type": "code",
   "execution_count": null,
   "metadata": {},
   "outputs": [],
   "source": [
    "model = timm.create_model(\"hf-hub:paige-ai/Virchow2\")\n"
   ]
  },
  {
   "cell_type": "markdown",
   "metadata": {},
   "source": [
    "# training"
   ]
  },
  {
   "cell_type": "markdown",
   "metadata": {},
   "source": [
    "semi faster one (32 batch)"
   ]
  },
  {
   "cell_type": "code",
   "execution_count": null,
   "metadata": {},
   "outputs": [
    {
     "name": "stderr",
     "output_type": "stream",
     "text": [
      "/home/iambrink/miniconda3/envs/tf-gpu/lib/python3.11/site-packages/tqdm/auto.py:21: TqdmWarning: IProgress not found. Please update jupyter and ipywidgets. See https://ipywidgets.readthedocs.io/en/stable/user_install.html\n",
      "  from .autonotebook import tqdm as notebook_tqdm\n",
      "/home/iambrink/miniconda3/envs/tf-gpu/lib/python3.11/site-packages/torch/optim/lr_scheduler.py:62: UserWarning: The verbose parameter is deprecated. Please use get_last_lr() to access the learning rate.\n",
      "  warnings.warn(\n",
      "/tmp/ipykernel_1145/3521349135.py:83: FutureWarning: `torch.cuda.amp.GradScaler(args...)` is deprecated. Please use `torch.amp.GradScaler('cuda', args...)` instead.\n",
      "  scaler = torch.cuda.amp.GradScaler()\n",
      "Epoch 1/25:   0%|          | 0/41 [00:00<?, ?it/s]/tmp/ipykernel_1145/3521349135.py:99: FutureWarning: `torch.cuda.amp.autocast(args...)` is deprecated. Please use `torch.amp.autocast('cuda', args...)` instead.\n",
      "  with torch.cuda.amp.autocast():\n",
      "Epoch 1/25: 100%|██████████| 41/41 [1:06:19<00:00, 97.07s/it, acc=47.5, loss=1.24] "
     ]
    },
    {
     "name": "stdout",
     "output_type": "stream",
     "text": [
      "Epoch 1: Train Loss=1.9950, Train Accuracy=47.46%\n"
     ]
    },
    {
     "name": "stderr",
     "output_type": "stream",
     "text": [
      "\n"
     ]
    },
    {
     "name": "stdout",
     "output_type": "stream",
     "text": [
      "Epoch 1: Validation Loss=0.7286, Validation Accuracy=52.62%\n",
      "New best model saved with accuracy: 52.62%\n"
     ]
    },
    {
     "name": "stderr",
     "output_type": "stream",
     "text": [
      "Epoch 2/25: 100%|██████████| 41/41 [1:04:50<00:00, 94.88s/it, acc=51, loss=0.707]  \n"
     ]
    },
    {
     "name": "stdout",
     "output_type": "stream",
     "text": [
      "Epoch 2: Train Loss=0.7347, Train Accuracy=51.00%\n",
      "Epoch 2: Validation Loss=0.7040, Validation Accuracy=52.62%\n"
     ]
    },
    {
     "name": "stderr",
     "output_type": "stream",
     "text": [
      "Epoch 3/25: 100%|██████████| 41/41 [1:06:48<00:00, 97.76s/it, acc=51.9, loss=0.776]\n"
     ]
    },
    {
     "name": "stdout",
     "output_type": "stream",
     "text": [
      "Epoch 3: Train Loss=0.7181, Train Accuracy=51.93%\n",
      "Epoch 3: Validation Loss=0.7215, Validation Accuracy=52.62%\n"
     ]
    },
    {
     "name": "stderr",
     "output_type": "stream",
     "text": [
      "Epoch 4/25: 100%|██████████| 41/41 [1:06:41<00:00, 97.61s/it, acc=50.1, loss=0.811]\n"
     ]
    },
    {
     "name": "stdout",
     "output_type": "stream",
     "text": [
      "Epoch 4: Train Loss=0.7299, Train Accuracy=50.08%\n",
      "Epoch 4: Validation Loss=0.7711, Validation Accuracy=47.38%\n"
     ]
    },
    {
     "name": "stderr",
     "output_type": "stream",
     "text": [
      "Epoch 5/25: 100%|██████████| 41/41 [1:06:44<00:00, 97.68s/it, acc=49.9, loss=0.682]\n"
     ]
    },
    {
     "name": "stdout",
     "output_type": "stream",
     "text": [
      "Epoch 5: Train Loss=0.7093, Train Accuracy=49.92%\n",
      "Epoch 5: Validation Loss=0.7075, Validation Accuracy=47.38%\n"
     ]
    },
    {
     "name": "stderr",
     "output_type": "stream",
     "text": [
      "Epoch 6/25: 100%|██████████| 41/41 [1:06:39<00:00, 97.55s/it, acc=50.5, loss=0.735]\n"
     ]
    },
    {
     "name": "stdout",
     "output_type": "stream",
     "text": [
      "Epoch 6: Train Loss=0.7104, Train Accuracy=50.54%\n",
      "Epoch 6: Validation Loss=0.7013, Validation Accuracy=52.62%\n"
     ]
    },
    {
     "name": "stderr",
     "output_type": "stream",
     "text": [
      "Epoch 7/25: 100%|██████████| 41/41 [1:06:39<00:00, 97.54s/it, acc=50.4, loss=0.688]\n"
     ]
    },
    {
     "name": "stdout",
     "output_type": "stream",
     "text": [
      "Epoch 7: Train Loss=0.7016, Train Accuracy=50.39%\n",
      "Epoch 7: Validation Loss=0.6927, Validation Accuracy=52.62%\n"
     ]
    },
    {
     "name": "stderr",
     "output_type": "stream",
     "text": [
      "Epoch 8/25: 100%|██████████| 41/41 [1:06:43<00:00, 97.64s/it, acc=51.2, loss=0.704]\n"
     ]
    },
    {
     "name": "stdout",
     "output_type": "stream",
     "text": [
      "Epoch 8: Train Loss=0.6977, Train Accuracy=51.16%\n",
      "Epoch 8: Validation Loss=0.6910, Validation Accuracy=52.62%\n"
     ]
    },
    {
     "name": "stderr",
     "output_type": "stream",
     "text": [
      "Epoch 9/25: 100%|██████████| 41/41 [1:06:45<00:00, 97.69s/it, acc=50.5, loss=0.71] \n"
     ]
    },
    {
     "name": "stdout",
     "output_type": "stream",
     "text": [
      "Epoch 9: Train Loss=0.6988, Train Accuracy=50.54%\n",
      "Epoch 9: Validation Loss=0.7021, Validation Accuracy=52.62%\n"
     ]
    },
    {
     "name": "stderr",
     "output_type": "stream",
     "text": [
      "Epoch 10/25: 100%|██████████| 41/41 [1:06:39<00:00, 97.55s/it, acc=50.5, loss=0.76] \n"
     ]
    },
    {
     "name": "stdout",
     "output_type": "stream",
     "text": [
      "Epoch 10: Train Loss=0.7305, Train Accuracy=50.54%\n",
      "Epoch 10: Validation Loss=0.7070, Validation Accuracy=47.38%\n"
     ]
    },
    {
     "name": "stderr",
     "output_type": "stream",
     "text": [
      "Epoch 11/25: 100%|██████████| 41/41 [1:05:37<00:00, 96.03s/it, acc=48.7, loss=nan] \n"
     ]
    },
    {
     "name": "stdout",
     "output_type": "stream",
     "text": [
      "Epoch 11: Train Loss=nan, Train Accuracy=48.69%\n",
      "Epoch 11: Validation Loss=0.7189, Validation Accuracy=52.62%\n"
     ]
    },
    {
     "name": "stderr",
     "output_type": "stream",
     "text": [
      "Epoch 12/25: 100%|██████████| 41/41 [1:05:33<00:00, 95.94s/it, acc=49.3, loss=nan]\n"
     ]
    },
    {
     "name": "stdout",
     "output_type": "stream",
     "text": [
      "Epoch 12: Train Loss=nan, Train Accuracy=49.27%\n",
      "Epoch 12: Validation Loss=0.7189, Validation Accuracy=52.62%\n"
     ]
    },
    {
     "name": "stderr",
     "output_type": "stream",
     "text": [
      "Epoch 13/25: 100%|██████████| 41/41 [1:05:43<00:00, 96.18s/it, acc=48.5, loss=nan]  \n"
     ]
    },
    {
     "name": "stdout",
     "output_type": "stream",
     "text": [
      "Epoch 13: Train Loss=nan, Train Accuracy=48.54%\n",
      "Epoch 13: Validation Loss=0.7183, Validation Accuracy=52.62%\n"
     ]
    },
    {
     "name": "stderr",
     "output_type": "stream",
     "text": [
      "Epoch 14/25: 100%|██████████| 41/41 [1:05:24<00:00, 95.72s/it, acc=47.3, loss=nan]\n"
     ]
    },
    {
     "name": "stdout",
     "output_type": "stream",
     "text": [
      "Epoch 14: Train Loss=nan, Train Accuracy=47.27%\n",
      "Epoch 14: Validation Loss=0.7183, Validation Accuracy=52.62%\n"
     ]
    },
    {
     "name": "stderr",
     "output_type": "stream",
     "text": [
      "Epoch 15/25: 100%|██████████| 41/41 [1:05:26<00:00, 95.76s/it, acc=47.3, loss=nan]\n"
     ]
    },
    {
     "name": "stdout",
     "output_type": "stream",
     "text": [
      "Epoch 15: Train Loss=nan, Train Accuracy=47.27%\n",
      "Epoch 15: Validation Loss=0.7183, Validation Accuracy=52.62%\n"
     ]
    },
    {
     "name": "stderr",
     "output_type": "stream",
     "text": [
      "Epoch 16/25: 100%|██████████| 41/41 [1:05:33<00:00, 95.95s/it, acc=47.3, loss=nan]\n"
     ]
    },
    {
     "name": "stdout",
     "output_type": "stream",
     "text": [
      "Epoch 16: Train Loss=nan, Train Accuracy=47.27%\n",
      "Epoch 16: Validation Loss=0.7183, Validation Accuracy=52.62%\n"
     ]
    },
    {
     "name": "stderr",
     "output_type": "stream",
     "text": [
      "Epoch 17/25:  90%|█████████ | 37/41 [59:32<06:26, 96.71s/it, acc=47.5, loss=nan] "
     ]
    }
   ],
   "source": [
    "import timm\n",
    "import torch\n",
    "import torch.nn as nn\n",
    "import torch.optim as optim\n",
    "from torch.utils.data import DataLoader, Dataset\n",
    "from timm.data import resolve_data_config\n",
    "from timm.data.transforms_factory import create_transform\n",
    "from timm.layers import SwiGLUPacked\n",
    "import pandas as pd\n",
    "import os\n",
    "from PIL import Image\n",
    "from tqdm import tqdm\n",
    "from sklearn.model_selection import train_test_split\n",
    "\n",
    "# Enable benchmark mode in cuDNN\n",
    "torch.backends.cudnn.benchmark = True\n",
    "\n",
    "# Set paths\n",
    "data_path = \"/home/iambrink/NOH_Thyroid_Cancer_Data/CSV-files/Thyroid_Cancer_TAN&NOH_file.csv\"\n",
    "base_image_path = \"/home/iambrink/NOH_Thyroid_Cancer_Data/superdata/\"\n",
    "\n",
    "# Load and clean the dataset\n",
    "df = pd.read_csv(data_path)\n",
    "df = df.dropna(subset=[\"Surgery diagnosis in number\"])\n",
    "\n",
    "# Split into train and validation sets (80% train, 20% validation)\n",
    "train_df, val_df = train_test_split(df, test_size=0.2, random_state=42, stratify=df[\"Surgery diagnosis in number\"])\n",
    "\n",
    "# Custom Dataset class\n",
    "class CustomDataset(Dataset):\n",
    "    def __init__(self, dataframe, base_path, transform=None):\n",
    "        self.dataframe = dataframe\n",
    "        self.base_path = base_path\n",
    "        self.transform = transform\n",
    "\n",
    "    def __len__(self):\n",
    "        return len(self.dataframe)\n",
    "\n",
    "    def __getitem__(self, idx):\n",
    "        img_path = os.path.join(self.base_path, self.dataframe.iloc[idx][\"image_path\"].replace(\"\\\\\", \"/\"))\n",
    "        image = Image.open(img_path).convert(\"RGB\")\n",
    "        label = int(self.dataframe.iloc[idx][\"Surgery diagnosis in number\"])\n",
    "        if self.transform:\n",
    "            image = self.transform(image)\n",
    "        return image, torch.tensor(label, dtype=torch.long)\n",
    "\n",
    "# Load the pre-trained model\n",
    "model = timm.create_model(\n",
    "    \"hf-hub:paige-ai/Virchow2\", \n",
    "    pretrained=True, \n",
    "    mlp_layer=SwiGLUPacked, \n",
    "    act_layer=torch.nn.SiLU\n",
    ")\n",
    "\n",
    "# Modify the model for binary classification\n",
    "num_features = model.num_features\n",
    "model.head = nn.Linear(num_features, 2)\n",
    "\n",
    "# Move model to GPU\n",
    "device = torch.device(\"cuda\" if torch.cuda.is_available() else \"cpu\")\n",
    "model = model.to(device)\n",
    "\n",
    "# Define transformations using timm's data config\n",
    "config = resolve_data_config(model.pretrained_cfg, model=model)\n",
    "transform = create_transform(**config)\n",
    "\n",
    "# Create datasets\n",
    "train_dataset = CustomDataset(train_df, base_image_path, transform=transform)\n",
    "val_dataset = CustomDataset(val_df, base_image_path, transform=transform)\n",
    "\n",
    "# Create DataLoaders\n",
    "train_loader = DataLoader(train_dataset, batch_size=64, shuffle=True, num_workers=16, pin_memory=True, persistent_workers=True)\n",
    "val_loader = DataLoader(val_dataset, batch_size=64, shuffle=False, num_workers=16, pin_memory=True, persistent_workers=True)\n",
    "\n",
    "# Define loss function and optimizer\n",
    "criterion = nn.CrossEntropyLoss()\n",
    "optimizer = optim.AdamW(model.parameters(), lr=0.0001, weight_decay=1e-4)\n",
    "\n",
    "# Learning rate scheduler\n",
    "scheduler = torch.optim.lr_scheduler.ReduceLROnPlateau(optimizer, mode='max', factor=0.5, patience=4, verbose=True)\n",
    "\n",
    "# Automatic mixed precision\n",
    "scaler = torch.cuda.amp.GradScaler()\n",
    "\n",
    "# Training setup\n",
    "num_epochs = 25\n",
    "best_val_acc = 0.0  # Store the best validation accuracy\n",
    "\n",
    "for epoch in range(num_epochs):\n",
    "    model.train()\n",
    "    train_loss, correct, total = 0, 0, 0\n",
    "\n",
    "    progress_bar = tqdm(train_loader, desc=f\"Epoch {epoch+1}/{num_epochs}\")\n",
    "\n",
    "    for images, labels in progress_bar:\n",
    "        images, labels = images.to(device), labels.to(device)\n",
    "        optimizer.zero_grad()\n",
    "\n",
    "        with torch.cuda.amp.autocast():\n",
    "            outputs = model(images)  # Expected shape: [batch_size, 261, 2]\n",
    "            outputs = outputs[:, 0, :]  # Use the class token [batch_size, 2]\n",
    "            loss = criterion(outputs, labels)\n",
    "\n",
    "        scaler.scale(loss).backward()\n",
    "        scaler.step(optimizer)\n",
    "        scaler.update()\n",
    "\n",
    "        train_loss += loss.item()\n",
    "        _, predicted = outputs.max(1)\n",
    "        correct += predicted.eq(labels).sum().item()\n",
    "        total += labels.size(0)\n",
    "        progress_bar.set_postfix(loss=loss.item(), acc=100. * correct / total)\n",
    "\n",
    "    train_acc = 100. * correct / total\n",
    "    print(f\"Epoch {epoch+1}: Train Loss={train_loss/len(train_loader):.4f}, Train Accuracy={train_acc:.2f}%\")\n",
    "\n",
    "    # Validation phase\n",
    "    model.eval()\n",
    "    val_loss, val_correct, val_total = 0, 0, 0\n",
    "\n",
    "    with torch.no_grad():\n",
    "        for images, labels in val_loader:\n",
    "            images, labels = images.to(device), labels.to(device)\n",
    "            outputs = model(images)[:, 0, :]\n",
    "            loss = criterion(outputs, labels)\n",
    "\n",
    "            val_loss += loss.item()\n",
    "            _, predicted = outputs.max(1)\n",
    "            val_correct += predicted.eq(labels).sum().item()\n",
    "            val_total += labels.size(0)\n",
    "\n",
    "    val_acc = 100. * val_correct / val_total\n",
    "    print(f\"Epoch {epoch+1}: Validation Loss={val_loss/len(val_loader):.4f}, Validation Accuracy={val_acc:.2f}%\")\n",
    "\n",
    "    # Step scheduler based on validation accuracy\n",
    "    scheduler.step(val_acc)\n",
    "\n",
    "    # Save the best model\n",
    "    if val_acc > best_val_acc:\n",
    "        best_val_acc = val_acc\n",
    "        torch.save(model.state_dict(), \"virchow2_best_test3.pth\")\n",
    "        print(f\"New best model saved with accuracy: {best_val_acc:.2f}%\")\n",
    "\n",
    "print(\"Training Complete. Best model saved as 'virchow2_best_test.pth'.\")\n"
   ]
  },
  {
   "cell_type": "markdown",
   "metadata": {},
   "source": [
    "# k-fold"
   ]
  },
  {
   "cell_type": "code",
   "execution_count": null,
   "metadata": {},
   "outputs": [],
   "source": [
    "import timm\n",
    "import torch\n",
    "import torch.nn as nn\n",
    "import torch.optim as optim\n",
    "from torch.utils.data import DataLoader, Dataset\n",
    "from timm.data import resolve_data_config\n",
    "from timm.data.transforms_factory import create_transform\n",
    "from timm.layers import SwiGLUPacked\n",
    "import pandas as pd\n",
    "import os\n",
    "from PIL import Image\n",
    "from tqdm import tqdm\n",
    "from sklearn.model_selection import StratifiedKFold\n",
    "\n",
    "# ————————————————————————————————————————————————————————————————\n",
    "# 1. Enable cuDNN benchmark for potential speedups on fixed-size inputs\n",
    "# ————————————————————————————————————————————————————————————————\n",
    "torch.backends.cudnn.benchmark = True\n",
    "\n",
    "# ————————————————————————————————————————————————————————————————\n",
    "# 2. Paths and hyperparameters\n",
    "# ————————————————————————————————————————————————————————————————\n",
    "DATA_CSV     = \"/home/iambrink/NOH_Thyroid_Cancer_Data/CSV-files/Thyroid_Cancer_TAN&NOH_file.csv\"\n",
    "BASE_IMG_DIR = \"/home/iambrink/NOH_Thyroid_Cancer_Data/superdata/\"\n",
    "\n",
    "NUM_FOLDS    = 5\n",
    "NUM_EPOCHS   = 25\n",
    "BATCH_SIZE   = 64\n",
    "LR           = 1e-5\n",
    "WEIGHT_DECAY = 1e-5\n",
    "NUM_WORKERS  = 16\n",
    "\n",
    "DEVICE = torch.device(\"cuda\" if torch.cuda.is_available() else \"cpu\")\n",
    "\n",
    "# ————————————————————————————————————————————————————————————————\n",
    "# 3. Load and clean the full DataFrame\n",
    "# ————————————————————————————————————————————————————————————————\n",
    "df = pd.read_csv(DATA_CSV)\n",
    "df = df.dropna(subset=[\"Surgery diagnosis in number\"])\n",
    "labels = df[\"Surgery diagnosis in number\"].astype(int).values\n",
    "\n",
    "# ————————————————————————————————————————————————————————————————\n",
    "# 4. Custom Dataset definition\n",
    "# ————————————————————————————————————————————————————————————————\n",
    "class CustomDataset(Dataset):\n",
    "    def __init__(self, dataframe, base_path, transform=None):\n",
    "        self.dataframe = dataframe.reset_index(drop=True)\n",
    "        self.base_path = base_path\n",
    "        self.transform = transform\n",
    "\n",
    "    def __len__(self):\n",
    "        return len(self.dataframe)\n",
    "\n",
    "    def __getitem__(self, idx):\n",
    "        row      = self.dataframe.iloc[idx]\n",
    "        img_path = os.path.join(self.base_path, row[\"image_path\"].replace(\"\\\\\", \"/\"))\n",
    "        image    = Image.open(img_path).convert(\"RGB\")\n",
    "        label    = int(row[\"Surgery diagnosis in number\"])\n",
    "        if self.transform:\n",
    "            image = self.transform(image)\n",
    "        return image, torch.tensor(label, dtype=torch.long)\n",
    "\n",
    "# ————————————————————————————————————————————————————————————————\n",
    "# 5. Prepare image transforms once (use a dummy model for config)\n",
    "# ————————————————————————————————————————————————————————————————\n",
    "_dummy_model = timm.create_model(\n",
    "    \"hf-hub:paige-ai/Virchow2\",\n",
    "    pretrained=True,\n",
    "    mlp_layer=SwiGLUPacked,\n",
    "    act_layer=torch.nn.SiLU\n",
    ")\n",
    "data_config = resolve_data_config(_dummy_model.pretrained_cfg, model=_dummy_model)\n",
    "transform   = create_transform(**data_config)\n",
    "del _dummy_model\n",
    "\n",
    "# ————————————————————————————————————————————————————————————————\n",
    "# 6. Set up Stratified K‑Fold\n",
    "# ————————————————————————————————————————————————————————————————\n",
    "skf = StratifiedKFold(\n",
    "    n_splits=NUM_FOLDS,\n",
    "    shuffle=True,\n",
    "    random_state=42\n",
    ")\n",
    "\n",
    "fold_accuracies = []\n",
    "\n",
    "# ————————————————————————————————————————————————————————————————\n",
    "# 7. Cross‑validation loop\n",
    "# ————————————————————————————————————————————————————————————————\n",
    "for fold, (train_idx, val_idx) in enumerate(skf.split(df, labels), start=1):\n",
    "    print(f\"\\n\\n########## Fold {fold}/{NUM_FOLDS} ##########\")\n",
    "\n",
    "    # a) Split DataFrame into train / validation for this fold\n",
    "    train_df = df.iloc[train_idx]\n",
    "    val_df   = df.iloc[val_idx]\n",
    "\n",
    "    # b) Create Datasets and DataLoaders\n",
    "    train_ds = CustomDataset(train_df, BASE_IMG_DIR, transform=transform)\n",
    "    val_ds   = CustomDataset(val_df,   BASE_IMG_DIR, transform=transform)\n",
    "    train_loader = DataLoader(\n",
    "        train_ds,\n",
    "        batch_size=BATCH_SIZE,\n",
    "        shuffle=True,\n",
    "        num_workers=NUM_WORKERS,\n",
    "        pin_memory=True,\n",
    "        persistent_workers=True\n",
    "    )\n",
    "    val_loader = DataLoader(\n",
    "        val_ds,\n",
    "        batch_size=BATCH_SIZE,\n",
    "        shuffle=False,\n",
    "        num_workers=NUM_WORKERS,\n",
    "        pin_memory=True,\n",
    "        persistent_workers=True\n",
    "    )\n",
    "\n",
    "    # c) Initialize a fresh model for this fold\n",
    "    model = timm.create_model(\n",
    "        \"hf-hub:paige-ai/Virchow2\",\n",
    "        pretrained=True,\n",
    "        mlp_layer=SwiGLUPacked,\n",
    "        act_layer=torch.nn.SiLU\n",
    "    )\n",
    "    model.head = nn.Linear(model.num_features, 2)\n",
    "    model = model.to(DEVICE)\n",
    "\n",
    "    # d) Loss, optimizer, scheduler, AMP scaler\n",
    "    criterion = nn.CrossEntropyLoss()\n",
    "    optimizer = optim.AdamW(model.parameters(), lr=LR, weight_decay=WEIGHT_DECAY)\n",
    "    scheduler = torch.optim.lr_scheduler.ReduceLROnPlateau(\n",
    "        optimizer,\n",
    "        mode='max',\n",
    "        factor=0.5,\n",
    "        patience=4,\n",
    "        verbose=True\n",
    "    )\n",
    "    scaler    = torch.cuda.amp.GradScaler()\n",
    "\n",
    "    best_val_acc = 0.0\n",
    "\n",
    "    # e) Epoch loop\n",
    "    for epoch in range(1, NUM_EPOCHS + 1):\n",
    "        # — Training —\n",
    "        model.train()\n",
    "        running_loss, correct, total = 0.0, 0, 0\n",
    "        pbar = tqdm(train_loader, desc=f\"Fold {fold} Ep {epoch}/{NUM_EPOCHS}\", leave=False)\n",
    "\n",
    "        for images, labels in pbar:\n",
    "            images, labels = images.to(DEVICE), labels.to(DEVICE)\n",
    "            optimizer.zero_grad()\n",
    "\n",
    "            with torch.cuda.amp.autocast():\n",
    "                outputs = model(images)[:, 0, :]    # use class token\n",
    "                loss    = criterion(outputs, labels)\n",
    "\n",
    "            scaler.scale(loss).backward()\n",
    "            scaler.step(optimizer)\n",
    "            scaler.update()\n",
    "\n",
    "            running_loss += loss.item() * labels.size(0)\n",
    "            _, preds     = outputs.max(1)\n",
    "            correct     += preds.eq(labels).sum().item()\n",
    "            total       += labels.size(0)\n",
    "\n",
    "            pbar.set_postfix(\n",
    "                loss=loss.item(),\n",
    "                acc=100. * correct / total\n",
    "            )\n",
    "\n",
    "        train_acc = 100. * correct / total\n",
    "        train_loss = running_loss / total\n",
    "\n",
    "        # — Validation —\n",
    "        model.eval()\n",
    "        val_loss, val_correct, val_total = 0.0, 0, 0\n",
    "        with torch.no_grad():\n",
    "            for images, labels in val_loader:\n",
    "                images, labels = images.to(DEVICE), labels.to(DEVICE)\n",
    "                outputs = model(images)[:, 0, :]\n",
    "                loss    = criterion(outputs, labels)\n",
    "\n",
    "                val_loss    += loss.item() * labels.size(0)\n",
    "                _, preds     = outputs.max(1)\n",
    "                val_correct += preds.eq(labels).sum().item()\n",
    "                val_total   += labels.size(0)\n",
    "\n",
    "        val_acc  = 100. * val_correct / val_total\n",
    "        val_loss = val_loss / val_total\n",
    "\n",
    "        # Scheduler step on validation accuracy\n",
    "        scheduler.step(val_acc)\n",
    "\n",
    "        print(\n",
    "            f\"Fold {fold} | Epoch {epoch}  \"\n",
    "            f\"Train Loss={train_loss:.4f}, Train Acc={train_acc:.2f}%  |  \"\n",
    "            f\"Val Loss={val_loss:.4f}, Val Acc={val_acc:.2f}%\"\n",
    "        )\n",
    "\n",
    "        # Save best model for this fold\n",
    "        if val_acc > best_val_acc:\n",
    "            best_val_acc = val_acc\n",
    "            torch.save(\n",
    "                model.state_dict(),\n",
    "                f\"virchow2_best_fold{fold}.pth\"\n",
    "            )\n",
    "            print(f\"➜ New best for fold {fold}: {best_val_acc:.2f}% saved.\")\n",
    "\n",
    "    fold_accuracies.append(best_val_acc)\n",
    "    print(f\"=== Fold {fold} finished. Best Val Acc: {best_val_acc:.2f}% ===\")\n",
    "\n",
    "# ————————————————————————————————————————————————————————————————\n",
    "# 8. Final summary across folds\n",
    "# ————————————————————————————————————————————————————————————————\n",
    "avg_acc = sum(fold_accuracies) / len(fold_accuracies)\n",
    "print(\"\\n########## K‑Fold Summary ##########\")\n",
    "for i, acc in enumerate(fold_accuracies, start=1):\n",
    "    print(f\" • Fold {i}: {acc:.2f}%\")\n",
    "print(f\" • Average Val Accuracy: {avg_acc:.2f}%\")\n"
   ]
  }
 ],
 "metadata": {
  "kernelspec": {
   "display_name": "tf-gpu",
   "language": "python",
   "name": "python3"
  },
  "language_info": {
   "codemirror_mode": {
    "name": "ipython",
    "version": 3
   },
   "file_extension": ".py",
   "mimetype": "text/x-python",
   "name": "python",
   "nbconvert_exporter": "python",
   "pygments_lexer": "ipython3",
   "version": "3.11.9"
  }
 },
 "nbformat": 4,
 "nbformat_minor": 2
}

{
 "cells": [
  {
   "cell_type": "code",
   "execution_count": null,
   "id": "25921f11",
   "metadata": {},
   "outputs": [
    {
     "name": "stderr",
     "output_type": "stream",
     "text": [
      "/tmp/ipykernel_351508/406940758.py:87: FutureWarning: `torch.cuda.amp.GradScaler(args...)` is deprecated. Please use `torch.amp.GradScaler('cuda', args...)` instead.\n",
      "  scaler    = torch.cuda.amp.GradScaler()\n",
      "Epoch 1 Train:   0%|          | 0/163 [00:00<?, ?it/s]/tmp/ipykernel_351508/406940758.py:102: FutureWarning: `torch.cuda.amp.autocast(args...)` is deprecated. Please use `torch.amp.autocast('cuda', args...)` instead.\n",
      "  with torch.cuda.amp.autocast():\n",
      "Epoch 1 Train: 100%|██████████| 163/163 [00:23<00:00,  6.94it/s]\n",
      "Epoch 1 Val:   0%|          | 0/41 [00:00<?, ?it/s]/tmp/ipykernel_351508/406940758.py:126: FutureWarning: `torch.cuda.amp.autocast(args...)` is deprecated. Please use `torch.amp.autocast('cuda', args...)` instead.\n",
      "  with torch.cuda.amp.autocast():\n",
      "Epoch 1 Val: 100%|██████████| 41/41 [00:06<00:00,  6.82it/s]\n"
     ]
    },
    {
     "name": "stdout",
     "output_type": "stream",
     "text": [
      "Epoch  1 | Train Loss: 0.7812 | Val Loss:   0.7179 | Val Acc:    0.5031\n",
      "→ Saved new best model (Acc: 0.5031)\n"
     ]
    },
    {
     "name": "stderr",
     "output_type": "stream",
     "text": [
      "Epoch 2 Train: 100%|██████████| 163/163 [00:23<00:00,  6.86it/s]\n",
      "Epoch 2 Val: 100%|██████████| 41/41 [00:06<00:00,  6.83it/s]\n"
     ]
    },
    {
     "name": "stdout",
     "output_type": "stream",
     "text": [
      "Epoch  2 | Train Loss: 0.6873 | Val Loss:   0.6677 | Val Acc:    0.6092\n",
      "→ Saved new best model (Acc: 0.6092)\n"
     ]
    },
    {
     "name": "stderr",
     "output_type": "stream",
     "text": [
      "Epoch 3 Train: 100%|██████████| 163/163 [00:24<00:00,  6.78it/s]\n",
      "Epoch 3 Val: 100%|██████████| 41/41 [00:06<00:00,  6.82it/s]\n"
     ]
    },
    {
     "name": "stdout",
     "output_type": "stream",
     "text": [
      "Epoch  3 | Train Loss: 0.6539 | Val Loss:   0.6396 | Val Acc:    0.7077\n",
      "→ Saved new best model (Acc: 0.7077)\n"
     ]
    },
    {
     "name": "stderr",
     "output_type": "stream",
     "text": [
      "Epoch 4 Train: 100%|██████████| 163/163 [00:23<00:00,  6.86it/s]\n",
      "Epoch 4 Val: 100%|██████████| 41/41 [00:06<00:00,  6.82it/s]\n"
     ]
    },
    {
     "name": "stdout",
     "output_type": "stream",
     "text": [
      "Epoch  4 | Train Loss: 0.6301 | Val Loss:   0.6171 | Val Acc:    0.7600\n",
      "→ Saved new best model (Acc: 0.7600)\n"
     ]
    },
    {
     "name": "stderr",
     "output_type": "stream",
     "text": [
      "Epoch 5 Train: 100%|██████████| 163/163 [00:23<00:00,  6.86it/s]\n",
      "Epoch 5 Val: 100%|██████████| 41/41 [00:05<00:00,  6.84it/s]\n"
     ]
    },
    {
     "name": "stdout",
     "output_type": "stream",
     "text": [
      "Epoch  5 | Train Loss: 0.6044 | Val Loss:   0.5972 | Val Acc:    0.7677\n",
      "→ Saved new best model (Acc: 0.7677)\n"
     ]
    },
    {
     "name": "stderr",
     "output_type": "stream",
     "text": [
      "Epoch 6 Train: 100%|██████████| 163/163 [00:23<00:00,  6.87it/s]\n",
      "Epoch 6 Val: 100%|██████████| 41/41 [00:05<00:00,  6.83it/s]\n"
     ]
    },
    {
     "name": "stdout",
     "output_type": "stream",
     "text": [
      "Epoch  6 | Train Loss: 0.5911 | Val Loss:   0.5814 | Val Acc:    0.7846\n",
      "→ Saved new best model (Acc: 0.7846)\n"
     ]
    },
    {
     "name": "stderr",
     "output_type": "stream",
     "text": [
      "Epoch 7 Train: 100%|██████████| 163/163 [00:23<00:00,  6.86it/s]\n",
      "Epoch 7 Val: 100%|██████████| 41/41 [00:06<00:00,  6.82it/s]\n"
     ]
    },
    {
     "name": "stdout",
     "output_type": "stream",
     "text": [
      "Epoch  7 | Train Loss: 0.5760 | Val Loss:   0.5674 | Val Acc:    0.7877\n",
      "→ Saved new best model (Acc: 0.7877)\n"
     ]
    },
    {
     "name": "stderr",
     "output_type": "stream",
     "text": [
      "Epoch 8 Train: 100%|██████████| 163/163 [00:23<00:00,  6.84it/s]\n",
      "Epoch 8 Val: 100%|██████████| 41/41 [00:06<00:00,  6.81it/s]\n"
     ]
    },
    {
     "name": "stdout",
     "output_type": "stream",
     "text": [
      "Epoch  8 | Train Loss: 0.5582 | Val Loss:   0.5543 | Val Acc:    0.7877\n"
     ]
    },
    {
     "name": "stderr",
     "output_type": "stream",
     "text": [
      "Epoch 9 Train: 100%|██████████| 163/163 [00:23<00:00,  6.92it/s]\n",
      "Epoch 9 Val: 100%|██████████| 41/41 [00:06<00:00,  6.82it/s]\n"
     ]
    },
    {
     "name": "stdout",
     "output_type": "stream",
     "text": [
      "Epoch  9 | Train Loss: 0.5474 | Val Loss:   0.5442 | Val Acc:    0.7877\n"
     ]
    },
    {
     "name": "stderr",
     "output_type": "stream",
     "text": [
      "Epoch 10 Train: 100%|██████████| 163/163 [00:23<00:00,  6.92it/s]\n",
      "Epoch 10 Val: 100%|██████████| 41/41 [00:05<00:00,  6.85it/s]\n"
     ]
    },
    {
     "name": "stdout",
     "output_type": "stream",
     "text": [
      "Epoch 10 | Train Loss: 0.5342 | Val Loss:   0.5356 | Val Acc:    0.7923\n",
      "→ Saved new best model (Acc: 0.7923)\n"
     ]
    },
    {
     "name": "stderr",
     "output_type": "stream",
     "text": [
      "Epoch 11 Train: 100%|██████████| 163/163 [00:23<00:00,  6.87it/s]\n",
      "Epoch 11 Val: 100%|██████████| 41/41 [00:06<00:00,  6.82it/s]\n"
     ]
    },
    {
     "name": "stdout",
     "output_type": "stream",
     "text": [
      "Epoch 11 | Train Loss: 0.5270 | Val Loss:   0.5271 | Val Acc:    0.7969\n",
      "→ Saved new best model (Acc: 0.7969)\n"
     ]
    },
    {
     "name": "stderr",
     "output_type": "stream",
     "text": [
      "Epoch 12 Train: 100%|██████████| 163/163 [00:23<00:00,  6.87it/s]\n",
      "Epoch 12 Val: 100%|██████████| 41/41 [00:06<00:00,  6.82it/s]\n"
     ]
    },
    {
     "name": "stdout",
     "output_type": "stream",
     "text": [
      "Epoch 12 | Train Loss: 0.5240 | Val Loss:   0.5206 | Val Acc:    0.8031\n",
      "→ Saved new best model (Acc: 0.8031)\n"
     ]
    },
    {
     "name": "stderr",
     "output_type": "stream",
     "text": [
      "Epoch 13 Train: 100%|██████████| 163/163 [00:23<00:00,  6.88it/s]\n",
      "Epoch 13 Val: 100%|██████████| 41/41 [00:05<00:00,  6.84it/s]\n"
     ]
    },
    {
     "name": "stdout",
     "output_type": "stream",
     "text": [
      "Epoch 13 | Train Loss: 0.5099 | Val Loss:   0.5139 | Val Acc:    0.8062\n",
      "→ Saved new best model (Acc: 0.8062)\n"
     ]
    },
    {
     "name": "stderr",
     "output_type": "stream",
     "text": [
      "Epoch 14 Train: 100%|██████████| 163/163 [00:23<00:00,  6.89it/s]\n",
      "Epoch 14 Val: 100%|██████████| 41/41 [00:05<00:00,  6.83it/s]\n"
     ]
    },
    {
     "name": "stdout",
     "output_type": "stream",
     "text": [
      "Epoch 14 | Train Loss: 0.5065 | Val Loss:   0.5085 | Val Acc:    0.8092\n",
      "→ Saved new best model (Acc: 0.8092)\n"
     ]
    },
    {
     "name": "stderr",
     "output_type": "stream",
     "text": [
      "Epoch 15 Train: 100%|██████████| 163/163 [00:23<00:00,  6.87it/s]\n",
      "Epoch 15 Val: 100%|██████████| 41/41 [00:05<00:00,  6.83it/s]\n"
     ]
    },
    {
     "name": "stdout",
     "output_type": "stream",
     "text": [
      "Epoch 15 | Train Loss: 0.4977 | Val Loss:   0.5042 | Val Acc:    0.8138\n",
      "→ Saved new best model (Acc: 0.8138)\n"
     ]
    },
    {
     "name": "stderr",
     "output_type": "stream",
     "text": [
      "Epoch 16 Train: 100%|██████████| 163/163 [00:23<00:00,  6.87it/s]\n",
      "Epoch 16 Val: 100%|██████████| 41/41 [00:06<00:00,  6.82it/s]\n"
     ]
    },
    {
     "name": "stdout",
     "output_type": "stream",
     "text": [
      "Epoch 16 | Train Loss: 0.4933 | Val Loss:   0.4993 | Val Acc:    0.8154\n",
      "→ Saved new best model (Acc: 0.8154)\n"
     ]
    },
    {
     "name": "stderr",
     "output_type": "stream",
     "text": [
      "Epoch 17 Train: 100%|██████████| 163/163 [00:23<00:00,  6.87it/s]\n",
      "Epoch 17 Val: 100%|██████████| 41/41 [00:06<00:00,  6.82it/s]\n"
     ]
    },
    {
     "name": "stdout",
     "output_type": "stream",
     "text": [
      "Epoch 17 | Train Loss: 0.4886 | Val Loss:   0.4951 | Val Acc:    0.8154\n"
     ]
    },
    {
     "name": "stderr",
     "output_type": "stream",
     "text": [
      "Epoch 18 Train: 100%|██████████| 163/163 [00:23<00:00,  6.91it/s]\n",
      "Epoch 18 Val: 100%|██████████| 41/41 [00:05<00:00,  6.84it/s]\n"
     ]
    },
    {
     "name": "stdout",
     "output_type": "stream",
     "text": [
      "Epoch 18 | Train Loss: 0.4785 | Val Loss:   0.4917 | Val Acc:    0.8169\n",
      "→ Saved new best model (Acc: 0.8169)\n"
     ]
    },
    {
     "name": "stderr",
     "output_type": "stream",
     "text": [
      "Epoch 19 Train: 100%|██████████| 163/163 [00:23<00:00,  6.87it/s]\n",
      "Epoch 19 Val: 100%|██████████| 41/41 [00:06<00:00,  6.81it/s]\n"
     ]
    },
    {
     "name": "stdout",
     "output_type": "stream",
     "text": [
      "Epoch 19 | Train Loss: 0.4792 | Val Loss:   0.4888 | Val Acc:    0.8154\n"
     ]
    },
    {
     "name": "stderr",
     "output_type": "stream",
     "text": [
      "Epoch 20 Train: 100%|██████████| 163/163 [00:23<00:00,  6.92it/s]\n",
      "Epoch 20 Val: 100%|██████████| 41/41 [00:06<00:00,  6.82it/s]\n"
     ]
    },
    {
     "name": "stdout",
     "output_type": "stream",
     "text": [
      "Epoch 20 | Train Loss: 0.4748 | Val Loss:   0.4863 | Val Acc:    0.8200\n",
      "→ Saved new best model (Acc: 0.8200)\n"
     ]
    },
    {
     "name": "stderr",
     "output_type": "stream",
     "text": [
      "Epoch 21 Train:  62%|██████▏   | 101/163 [00:14<00:08,  6.92it/s]"
     ]
    }
   ],
   "source": [
    "import os\n",
    "import pandas as pd\n",
    "from PIL import Image\n",
    "from tqdm import tqdm\n",
    "from sklearn.model_selection import train_test_split\n",
    "\n",
    "import torch\n",
    "import torch.nn as nn\n",
    "import torch.optim as optim\n",
    "from torch.utils.data import Dataset, DataLoader\n",
    "\n",
    "import timm\n",
    "from timm.data import resolve_data_config\n",
    "from timm.data.transforms_factory import create_transform\n",
    "\n",
    "# --- Paths & Hyperparams ---\n",
    "CSV_PATH        = \"/home/iambrink/NOH_Thyroid_Cancer_Data/CSV-files/Thyroid_Cancer_TAN&NOH_file.csv\"\n",
    "BASE_IMAGE_PATH = \"/home/iambrink/NOH_Thyroid_Cancer_Data/superdata/\"\n",
    "\n",
    "MODEL_NAME  = \"hf-hub:paige-ai/Virchow2\"\n",
    "NUM_CLASSES = 2\n",
    "BATCH_SIZE  = 16\n",
    "NUM_EPOCHS  = 1000\n",
    "LR          = 1e-5\n",
    "WD          = 1e-4\n",
    "NUM_WORKERS = 8\n",
    "DEVICE      = torch.device(\"cuda\" if torch.cuda.is_available() else \"cpu\")\n",
    "\n",
    "# --- Load & split DataFrame ---\n",
    "df = pd.read_csv(CSV_PATH).dropna(subset=[\"Surgery diagnosis in number\"])\n",
    "train_df, val_df = train_test_split(\n",
    "    df, test_size=0.2, random_state=42,\n",
    "    stratify=df[\"Surgery diagnosis in number\"]\n",
    ")\n",
    "\n",
    "# --- Dataset ---\n",
    "class ThyroidDataset(Dataset):\n",
    "    def __init__(self, df, base_path, transform=None):\n",
    "        self.df = df.reset_index(drop=True)\n",
    "        self.base = base_path\n",
    "        self.tf   = transform\n",
    "    def __len__(self):\n",
    "        return len(self.df)\n",
    "    def __getitem__(self, i):\n",
    "        row = self.df.iloc[i]\n",
    "        img_path = os.path.join(self.base, row[\"image_path\"].replace(\"\\\\\",\"/\"))\n",
    "        img = Image.open(img_path).convert(\"RGB\")\n",
    "        label = int(row[\"Surgery diagnosis in number\"])  # 0 or 1\n",
    "        if self.tf:\n",
    "            img = self.tf(img)\n",
    "        return img, torch.tensor(label, dtype=torch.long)\n",
    "\n",
    "# --- Transforms & DataLoaders ---\n",
    "config          = resolve_data_config({}, model=MODEL_NAME)\n",
    "train_transform = create_transform(**config, is_training=True)\n",
    "val_transform   = create_transform(**config, is_training=False)\n",
    "\n",
    "train_ds = ThyroidDataset(train_df, BASE_IMAGE_PATH, train_transform)\n",
    "val_ds   = ThyroidDataset(val_df,   BASE_IMAGE_PATH, val_transform)\n",
    "\n",
    "train_loader = DataLoader(train_ds, batch_size=BATCH_SIZE, shuffle=True,\n",
    "                          num_workers=NUM_WORKERS, pin_memory=True)\n",
    "val_loader   = DataLoader(val_ds,   batch_size=BATCH_SIZE, shuffle=False,\n",
    "                          num_workers=NUM_WORKERS, pin_memory=True)\n",
    "\n",
    "# --- Model & freeze backbone ---\n",
    "model = timm.create_model(\n",
    "    MODEL_NAME,\n",
    "    pretrained=True,\n",
    "    num_classes=NUM_CLASSES,\n",
    "    mlp_layer=timm.layers.SwiGLUPacked,\n",
    "    act_layer=torch.nn.SiLU\n",
    ").to(DEVICE)\n",
    "\n",
    "for p in model.parameters():\n",
    "    p.requires_grad = False\n",
    "for p in model.get_classifier().parameters():\n",
    "    p.requires_grad = True\n",
    "\n",
    "# --- Loss, optimizer, scheduler, scaler ---\n",
    "criterion = nn.CrossEntropyLoss()\n",
    "optimizer = optim.AdamW(\n",
    "    filter(lambda p: p.requires_grad, model.parameters()),\n",
    "    lr=LR, weight_decay=WD\n",
    ")\n",
    "scheduler = torch.optim.lr_scheduler.CosineAnnealingLR(optimizer, T_max=NUM_EPOCHS)\n",
    "scaler    = torch.cuda.amp.GradScaler()\n",
    "torch.backends.cudnn.benchmark = True\n",
    "\n",
    "best_val_acc = 0.0\n",
    "\n",
    "# --- Training & Validation ---\n",
    "for epoch in range(1, NUM_EPOCHS + 1):\n",
    "    # — Train —\n",
    "    model.train()\n",
    "    total_loss = 0.0\n",
    "    for imgs, labels in tqdm(train_loader, desc=f\"Epoch {epoch} Train\"):\n",
    "        imgs   = imgs.to(DEVICE, non_blocking=True)\n",
    "        labels = labels.to(DEVICE, non_blocking=True)   # [B], LongTensor\n",
    "\n",
    "        optimizer.zero_grad(set_to_none=True)\n",
    "        with torch.cuda.amp.autocast():\n",
    "            patch_logits = model(imgs)                    # [B, num_patches, 2]\n",
    "            logits       = patch_logits.mean(dim=1)       # ⬅️ now [B,2]\n",
    "            loss         = criterion(logits, labels)      # labels [B]\n",
    "\n",
    "        scaler.scale(loss).backward()\n",
    "        scaler.step(optimizer)\n",
    "        scaler.update()\n",
    "\n",
    "        total_loss += loss.item() * imgs.size(0)\n",
    "\n",
    "    scheduler.step()\n",
    "    avg_train_loss = total_loss / len(train_ds)\n",
    "\n",
    "    # — Validate —\n",
    "    model.eval()\n",
    "    val_loss = 0.0\n",
    "    correct  = 0\n",
    "    total    = 0\n",
    "    with torch.no_grad():\n",
    "        for imgs, labels in tqdm(val_loader, desc=f\"Epoch {epoch} Val\"):\n",
    "            imgs   = imgs.to(DEVICE, non_blocking=True)\n",
    "            labels = labels.to(DEVICE, non_blocking=True)\n",
    "\n",
    "            with torch.cuda.amp.autocast():\n",
    "                patch_logits = model(imgs)\n",
    "                logits       = patch_logits.mean(dim=1)\n",
    "                loss         = criterion(logits, labels)\n",
    "\n",
    "            val_loss += loss.item() * imgs.size(0)\n",
    "            preds    = logits.argmax(dim=1)\n",
    "            correct += (preds == labels).sum().item()\n",
    "            total   += labels.size(0)\n",
    "\n",
    "    avg_val_loss = val_loss / len(val_ds)\n",
    "    val_acc      = correct / total\n",
    "\n",
    "    print(\n",
    "        f\"Epoch {epoch:2d} | \"\n",
    "        f\"Train Loss: {avg_train_loss:.4f} | \"\n",
    "        f\"Val Loss:   {avg_val_loss:.4f} | \"\n",
    "        f\"Val Acc:    {val_acc:.4f}\"\n",
    "    )\n",
    "\n",
    "    if val_acc > best_val_acc:\n",
    "        best_val_acc = val_acc\n",
    "        torch.save(model.state_dict(), \"best_virchow2.pth\")\n",
    "        print(f\"→ Saved new best model (Acc: {best_val_acc:.4f})\")\n"
   ]
  }
 ],
 "metadata": {
  "kernelspec": {
   "display_name": "tf-gpu",
   "language": "python",
   "name": "python3"
  },
  "language_info": {
   "codemirror_mode": {
    "name": "ipython",
    "version": 3
   },
   "file_extension": ".py",
   "mimetype": "text/x-python",
   "name": "python",
   "nbconvert_exporter": "python",
   "pygments_lexer": "ipython3",
   "version": "3.11.9"
  }
 },
 "nbformat": 4,
 "nbformat_minor": 5
}
